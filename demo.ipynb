{
 "cells": [
  {
   "cell_type": "code",
   "execution_count": 1,
   "metadata": {},
   "outputs": [
    {
     "name": "stdout",
     "output_type": "stream",
     "text": [
      "Using KAN\n",
      "success to init LymphPath\n"
     ]
    },
    {
     "data": {
      "text/plain": [
       "<All keys matched successfully>"
      ]
     },
     "execution_count": 1,
     "metadata": {},
     "output_type": "execute_result"
    }
   ],
   "source": [
    "from utils.utils import read_yaml\n",
    "from utils.model_factory import load_model\n",
    "import torch\n",
    "\n",
    "cfg = read_yaml('projects/configs/cfg_LymphPath.yaml')\n",
    "model = load_model(cfg)\n",
    "model.load_state_dict(torch.load('weights/LymphPath.pt'), strict=True)"
   ]
  },
  {
   "cell_type": "code",
   "execution_count": 2,
   "metadata": {},
   "outputs": [
    {
     "name": "stdout",
     "output_type": "stream",
     "text": [
     ]}
   ],
   "source": [
    "import pandas as pd\n",
    "import random\n",
    "from datasets.ThreeStreamBagDataset import ThreeChannelBagDataset\n",
    "\n",
    "random.seed(1)\n",
    "your_csv = pd.read_csv('csv/17-BRCA.csv')\n",
    "\n",
    "wsi_id = random.choice(list(your_csv['slide_id']))\n",
    "wsi_data = your_csv[your_csv['slide_id'] == wsi_id]\n",
    "\n",
    "data_dir1 = '/feature/gigapath/'\n",
    "data_dir2 = '/feature/UNI/'\n",
    "data_dir3 = '/feature/virchow2/'\n",
    "\n",
    "dataset = ThreeChannelBagDataset(\n",
    "    df=wsi_data,\n",
    "    data_dir1=data_dir1,\n",
    "    data_dir2=data_dir2,\n",
    "    data_dir3=data_dir3,\n",
    "    label_field='label'\n",
    ")\n",
    "\n",
    "sample = dataset[0]\n",
    "feature1 = sample['features1']  \n",
    "feature2 = sample['features2']\n",
    "feature3 = sample['features3']\n",
    "y = sample['label']\n"
   ]
  },
  {
   "cell_type": "markdown",
   "metadata": {},
   "source": []
  },
  {
   "cell_type": "code",
   "execution_count": 3,
   "metadata": {},
   "outputs": [
    {
     "name": "stdout",
     "output_type": "stream",
     "text": [
      "slide id: patient_013_node_3 if LNM: 1\n"
     ]
    }
   ],
   "source": [
    "model.eval()\n",
    "model.to('cuda')\n",
    "feature1 = feature1.to('cuda')\n",
    "feature2 = feature2.to('cuda')\n",
    "feature3 = feature3.to('cuda')\n",
    "y =y .to('cuda')\n",

    "res = model(feature1, feature2, feature3, label=y, instance_eval=True)\n",
    "\n",
    "logits1 = res['logits1']\n",
    "logits2 = res['logits2']\n",
    "logits3 = res['logits3']\n",
    "bag_logits_merge = res['merge_logits']\n",
    "\n",
    "y_prob1 = torch.softmax(logits1, dim=-1)\n",
    "y_prob2 = torch.softmax(logits2, dim=-1)\n",
    "y_prob3 = torch.softmax(logits3, dim=-1)\n",
    "y_prob_merge = torch.softmax(bag_logits_merge, dim=-1)\n",
    "y_prob = 0.4 * (y_prob1 + y_prob2 + y_prob3) / 3 + 0.6 * y_prob_merge\n",
    "print('slide id:', str(wsi_id), 'if LNM:', int(y_prob[:,1] > 0.5))"
   ]
  },
  {
   "cell_type": "markdown",
   "metadata": {},
   "source": []
  }
 ],
 "metadata": {
  "kernelspec": {
   "display_name": "Python 3",
   "language": "python",
   "name": "python3"
  },
  "language_info": {
   "codemirror_mode": {
    "name": "ipython",
    "version": 3
   },
   "file_extension": ".py",
   "mimetype": "text/x-python",
   "name": "python",
   "nbconvert_exporter": "python",
   "pygments_lexer": "ipython3",
   "version": "3.8.10"
  },
  "orig_nbformat": 4
 },
 "nbformat": 4,
 "nbformat_minor": 2
}
